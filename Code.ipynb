{
  "nbformat": 4,
  "nbformat_minor": 0,
  "metadata": {
    "colab": {
      "name": "Untitled2.ipynb",
      "provenance": [],
      "collapsed_sections": []
    },
    "kernelspec": {
      "name": "python3",
      "display_name": "Python 3"
    },
    "language_info": {
      "name": "python"
    }
  },
  "cells": [
    {
      "cell_type": "code",
      "metadata": {
        "colab": {
          "base_uri": "https://localhost:8080/"
        },
        "id": "4i3OuF2d5rCo",
        "outputId": "920e06c0-fde7-47d1-f6d6-09ab45976eb7"
      },
      "source": [
        "!pip3 install python-mnist\n"
      ],
      "execution_count": null,
      "outputs": [
        {
          "output_type": "stream",
          "text": [
            "Collecting python-mnist\n",
            "  Downloading https://files.pythonhosted.org/packages/64/f0/6086b84427c3bf156ec0b3c2f9dfc1d770b35f942b9ed8a64f5229776a80/python_mnist-0.7-py2.py3-none-any.whl\n",
            "Installing collected packages: python-mnist\n",
            "Successfully installed python-mnist-0.7\n"
          ],
          "name": "stdout"
        }
      ]
    },
    {
      "cell_type": "code",
      "metadata": {
        "id": "hugJp7L289yt"
      },
      "source": [
        "from mnist import MNIST\n",
        "import os\n",
        "import tensorflow as tf\n",
        "import numpy as np\n",
        "import cv2\n",
        "from keras.models import Sequential\n",
        "from keras.layers import Dense\n",
        "from random import shuffle\n",
        "from random import randrange\n",
        "from matplotlib import pyplot as plt\n",
        "\n",
        "\n",
        "\n",
        "mndata = MNIST('drive/MyDrive/byclass')"
      ],
      "execution_count": null,
      "outputs": []
    },
    {
      "cell_type": "code",
      "metadata": {
        "id": "owEdL3qDN1LB"
      },
      "source": [
        "images, labels = mndata.load_training()"
      ],
      "execution_count": null,
      "outputs": []
    },
    {
      "cell_type": "code",
      "metadata": {
        "colab": {
          "base_uri": "https://localhost:8080/"
        },
        "id": "l6MmM0shMxxu",
        "outputId": "32340658-b31e-49bf-a920-ff20e4483d8c"
      },
      "source": [
        "count = 0\n",
        "for i in range(len(images)):\n",
        "  if labels[i] == 6 and count < 10:\n",
        "    print(mndata.display(images[i]), labels[i])\n",
        "    count += 1\n"
      ],
      "execution_count": null,
      "outputs": [
        {
          "output_type": "stream",
          "text": [
            "\n",
            "............................\n",
            "............................\n",
            "............................\n",
            "............................\n",
            "............................\n",
            "............................\n",
            "............................\n",
            ".................@@@@@@.....\n",
            "...............@@@@@@@@@....\n",
            "..............@@@@@@@@@@....\n",
            "............@@@@@@@..@@@....\n",
            "..........@@@@@@...@@@@@....\n",
            ".........@@@@@...@@@@@@@....\n",
            "........@@@@....@@@@@@@.....\n",
            ".......@@@@@....@@@@@@@.....\n",
            ".....@@@@@.....@@@@@@@@.....\n",
            "....@@@@@......@@@@@@@......\n",
            "...@@@@........@@@@@@.......\n",
            "...............@@@@@........\n",
            "...............@@@@@........\n",
            "...............@@@..........\n",
            "............................\n",
            "............................\n",
            "............................\n",
            "............................\n",
            "............................\n",
            "............................\n",
            "............................ 6\n",
            "\n",
            "............................\n",
            "............................\n",
            "............................\n",
            "............................\n",
            "............................\n",
            "............................\n",
            "............................\n",
            "............@@@@@@@.........\n",
            "...........@@@@@@@@@........\n",
            "..........@@@@@@@@@@@.......\n",
            "........@@@@@@.@@@@@@.......\n",
            "........@@@@@@.@@@@@@@......\n",
            ".......@@@@....@@@@@@@@.....\n",
            "......@@@@.....@@@@@@@@.....\n",
            "......@@@@......@@@@@@@@....\n",
            ".....@@@@.......@@@@@@@@....\n",
            "....@@@@.........@@@.@@@....\n",
            "....@@@@.........@@@.@@@....\n",
            "....@@@...........@@@@@@....\n",
            ".....@@............@@@@@....\n",
            ".....@@.............@@@@....\n",
            "......................@.....\n",
            "............................\n",
            "............................\n",
            "............................\n",
            "............................\n",
            "............................\n",
            "............................ 6\n",
            "\n",
            "............................\n",
            "............................\n",
            "............................\n",
            "............................\n",
            "............................\n",
            "............................\n",
            "...................@@@@.....\n",
            ".................@@@@@@@....\n",
            "................@@@@..@@....\n",
            "..............@@@@....@@@...\n",
            ".............@@@@.....@@@...\n",
            "............@@@@......@@@...\n",
            "...........@@@@......@@@@...\n",
            "..........@@@......@@@@@@...\n",
            "........@@@@.....@@@..@@....\n",
            ".......@@@@....@@@@...@@....\n",
            "......@@@@@...@@@.....@.....\n",
            ".....@@@@.....@@@....@@.....\n",
            "...@@@@@.....@@@....@@......\n",
            "...@@@@......@@@...@@@......\n",
            ".....@.......@@@@@@@@.......\n",
            "...............@@@@@........\n",
            "............................\n",
            "............................\n",
            "............................\n",
            "............................\n",
            "............................\n",
            "............................ 6\n",
            "\n",
            "............................\n",
            "............................\n",
            "............................\n",
            "............................\n",
            "............................\n",
            "............................\n",
            "..............@@@...........\n",
            "........@@@@@@@@@@@@@.......\n",
            ".....@@@@@@@@......@@@......\n",
            "...@@@@@@@..........@@@.....\n",
            ".....................@@@....\n",
            "......................@@....\n",
            "..................@@..@@....\n",
            ".................@@@@@@@@...\n",
            "................@@@...@@@...\n",
            "...............@@@.....@@...\n",
            "...............@@......@....\n",
            "...............@@......@....\n",
            "...............@@......@....\n",
            "...............@@@@@..@.....\n",
            ".................@@@@@......\n",
            "............................\n",
            "............................\n",
            "............................\n",
            "............................\n",
            "............................\n",
            "............................\n",
            "............................ 6\n",
            "\n",
            "............................\n",
            "............................\n",
            "............................\n",
            "............................\n",
            "............................\n",
            "............................\n",
            "............................\n",
            "........................@...\n",
            "...............@@@@@@@@@@...\n",
            "..............@@@@@.@@@@....\n",
            ".............@@@....@@@.....\n",
            "...........@@@......@@@.....\n",
            "..........@@@......@@@@.....\n",
            ".........@@........@.@@.....\n",
            ".......@@.........@..@@.....\n",
            "......@@@.........@..@@.....\n",
            "......@@..........@..@@.....\n",
            ".....@@...........@@@.......\n",
            "....@.......................\n",
            "...@@.......................\n",
            "............................\n",
            "............................\n",
            "............................\n",
            "............................\n",
            "............................\n",
            "............................\n",
            "............................\n",
            "............................ 6\n",
            "\n",
            "............................\n",
            "............................\n",
            "............................\n",
            "............................\n",
            "............................\n",
            "............................\n",
            "............................\n",
            "......................@@@...\n",
            "......................@.....\n",
            "......................@.@...\n",
            "......................@@@...\n",
            ".................@...@.@@...\n",
            "................@@..@@.@@...\n",
            "................@..@@..@....\n",
            ".............@@....@..@@....\n",
            "............@@....@@..@.....\n",
            "..........@@@.....@@.@@.....\n",
            "........@@@.......@@@@......\n",
            ".......@@@........@@@.......\n",
            "......@@@........@@@@.......\n",
            ".....@@...........@.........\n",
            "...@@@......................\n",
            "............................\n",
            "............................\n",
            "............................\n",
            "............................\n",
            "............................\n",
            "............................ 6\n",
            "\n",
            "............................\n",
            "............................\n",
            "............................\n",
            "............................\n",
            "............................\n",
            "............................\n",
            "............................\n",
            "............................\n",
            "............................\n",
            ".................@@@@.......\n",
            "...............@@@@@@.......\n",
            "..............@@@@@@@@......\n",
            ".............@@@@..@@@......\n",
            "............@@@....@@@@.....\n",
            "...........@@@....@@@@@.....\n",
            "...........@@....@@@@@......\n",
            ".........@@@...@@@@@@.......\n",
            "........@@@....@@@@@@.......\n",
            ".......@@@....@@@@@@@.......\n",
            ".......@@.....@@@@@@........\n",
            ".....@@@@......@@@@.........\n",
            ".....@@.....................\n",
            ".....@@.....................\n",
            "............................\n",
            "............................\n",
            "............................\n",
            "............................\n",
            "............................ 6\n",
            "\n",
            "............................\n",
            "............................\n",
            "............................\n",
            "............................\n",
            "....@@@@@@@@@@@@............\n",
            "...@@@@@@@@@@@@@@@@@........\n",
            ".............@...@@@@.......\n",
            "....................@@@.....\n",
            ".....................@@.....\n",
            ".....................@@.....\n",
            "......................@@....\n",
            "......................@@....\n",
            "...................@@.@@....\n",
            "..................@@@@@@@...\n",
            "................@@@..@@@@...\n",
            "...............@@@...@.@@...\n",
            "..............@@@......@@...\n",
            "..............@@.......@....\n",
            "..............@........@....\n",
            "..............@........@....\n",
            "..............@@.......@....\n",
            "..............@@......@.....\n",
            "..............@@............\n",
            "...............@@...@@......\n",
            ".................@@@@.......\n",
            "............................\n",
            "............................\n",
            "............................ 6\n",
            "\n",
            "............................\n",
            "............................\n",
            "............................\n",
            "............................\n",
            "............................\n",
            "............................\n",
            "............................\n",
            "............................\n",
            "...................@@@@@....\n",
            ".................@@@@@@@....\n",
            "..............@.@@@..@@@....\n",
            "..........@@@@@@@@....@@@...\n",
            ".......@..............@@@...\n",
            "...@@@@...............@@@...\n",
            "...............@.......@....\n",
            "...............@......@@....\n",
            "...............@......@.....\n",
            "...............@............\n",
            "................@...........\n",
            "................@@..........\n",
            "............................\n",
            "............................\n",
            "............................\n",
            "............................\n",
            "............................\n",
            "............................\n",
            "............................\n",
            "............................ 6\n",
            "\n",
            "............................\n",
            "............................\n",
            "............................\n",
            "............................\n",
            "............................\n",
            "............................\n",
            "............................\n",
            "............................\n",
            "..................@@@@@.....\n",
            "..............@@@@@@@@@@....\n",
            ".............@@@@@...@@@@...\n",
            "............@@@@@@....@@@...\n",
            "..........@@@@@@@@....@@@@..\n",
            ".........@@@@..@@@.....@@@..\n",
            ".......@@@@....@@@....@@@@..\n",
            "......@@@@....@@@.....@@@...\n",
            ".....@@@......@@@....@@@....\n",
            "....@@@@......@@@@..@@@@....\n",
            "...@@@.........@@@@@@@......\n",
            "...@............@...........\n",
            "............................\n",
            "............................\n",
            "............................\n",
            "............................\n",
            "............................\n",
            "............................\n",
            "............................\n",
            "............................ 6\n"
          ],
          "name": "stdout"
        }
      ]
    },
    {
      "cell_type": "code",
      "metadata": {
        "id": "NTw4b6RtOe02"
      },
      "source": [
        ""
      ],
      "execution_count": null,
      "outputs": []
    },
    {
      "cell_type": "code",
      "metadata": {
        "colab": {
          "base_uri": "https://localhost:8080/"
        },
        "id": "ISsPtxbjOzIt",
        "outputId": "93ed0c3f-aa82-43b2-959b-38ed8eddd5a0"
      },
      "source": [
        "print(len(images), len(labels))\n",
        "print(images[0])\n",
        "for i in range(len(images)):\n",
        "  for j in range(len(images[i])):\n",
        "    if images[i][j] >= 70:\n",
        "      images[i][j] = 1\n",
        "    else:\n",
        "      images[i][j] = 0\n"
      ],
      "execution_count": null,
      "outputs": [
        {
          "output_type": "stream",
          "text": [
            "697932 697932\n",
            "[0, 0, 0, 0, 0, 0, 0, 0, 0, 0, 0, 0, 0, 0, 0, 0, 0, 0, 0, 0, 0, 0, 0, 0, 0, 0, 0, 0, 0, 0, 0, 0, 0, 0, 0, 0, 0, 0, 0, 0, 0, 0, 0, 0, 0, 0, 0, 0, 0, 0, 0, 0, 0, 0, 0, 0, 0, 0, 0, 0, 0, 0, 0, 0, 0, 0, 0, 0, 0, 0, 0, 0, 0, 0, 0, 0, 0, 0, 0, 0, 0, 0, 0, 0, 0, 0, 0, 0, 0, 0, 0, 0, 0, 0, 0, 0, 0, 0, 0, 0, 0, 0, 0, 0, 0, 0, 0, 0, 0, 0, 0, 0, 0, 0, 0, 0, 0, 0, 0, 0, 0, 0, 0, 0, 0, 0, 0, 0, 0, 0, 0, 0, 22, 81, 125, 77, 0, 0, 0, 0, 0, 0, 1, 19, 8, 0, 0, 0, 0, 0, 0, 0, 0, 0, 0, 0, 0, 0, 0, 20, 159, 232, 249, 206, 10, 0, 0, 0, 0, 0, 34, 201, 207, 90, 1, 0, 0, 0, 0, 0, 0, 0, 0, 0, 0, 0, 24, 170, 254, 254, 254, 253, 113, 4, 0, 0, 0, 0, 84, 233, 253, 218, 19, 0, 0, 0, 0, 0, 0, 0, 0, 0, 2, 11, 131, 234, 254, 255, 255, 254, 127, 4, 0, 0, 0, 2, 170, 251, 254, 233, 20, 0, 0, 0, 0, 0, 0, 0, 0, 0, 66, 139, 244, 254, 255, 255, 255, 254, 127, 4, 0, 0, 0, 2, 173, 252, 254, 217, 4, 0, 0, 0, 0, 0, 0, 0, 7, 59, 232, 254, 254, 254, 254, 254, 255, 254, 129, 5, 0, 0, 0, 2, 174, 252, 254, 217, 4, 0, 0, 0, 0, 0, 0, 0, 90, 207, 254, 254, 254, 236, 236, 254, 255, 254, 170, 20, 0, 0, 0, 4, 217, 254, 254, 217, 4, 0, 0, 0, 0, 0, 7, 36, 221, 254, 254, 247, 202, 79, 129, 250, 255, 254, 140, 9, 0, 0, 0, 4, 217, 254, 254, 222, 9, 0, 0, 0, 0, 1, 90, 203, 249, 254, 245, 164, 34, 7, 127, 250, 255, 254, 129, 5, 0, 0, 0, 4, 217, 254, 254, 249, 37, 0, 0, 0, 6, 79, 245, 254, 254, 250, 95, 9, 0, 0, 125, 249, 255, 254, 203, 32, 0, 0, 0, 4, 203, 254, 255, 250, 37, 0, 0, 3, 111, 189, 254, 254, 251, 187, 20, 0, 0, 0, 82, 232, 254, 254, 217, 39, 0, 0, 0, 0, 129, 250, 255, 250, 39, 0, 3, 79, 247, 254, 254, 251, 131, 32, 0, 0, 0, 0, 8, 127, 254, 255, 229, 70, 0, 0, 0, 0, 114, 245, 255, 252, 82, 3, 48, 176, 254, 254, 253, 218, 23, 0, 0, 0, 0, 0, 0, 51, 250, 255, 234, 84, 0, 0, 0, 0, 38, 216, 254, 254, 148, 100, 244, 254, 254, 246, 127, 33, 0, 0, 0, 0, 0, 0, 0, 32, 245, 254, 250, 127, 0, 0, 0, 0, 21, 172, 254, 254, 236, 235, 254, 254, 250, 175, 10, 0, 0, 0, 0, 0, 0, 0, 0, 9, 220, 254, 250, 140, 0, 0, 0, 0, 4, 125, 254, 255, 255, 255, 254, 251, 100, 20, 0, 0, 0, 0, 0, 0, 0, 0, 0, 0, 109, 239, 253, 184, 3, 0, 0, 0, 2, 82, 252, 254, 255, 254, 253, 218, 22, 0, 0, 0, 0, 0, 0, 0, 0, 0, 0, 0, 115, 245, 254, 205, 4, 0, 0, 0, 0, 34, 243, 254, 255, 254, 221, 91, 1, 0, 0, 0, 0, 0, 0, 0, 0, 0, 0, 0, 109, 232, 254, 217, 4, 0, 0, 0, 0, 1, 123, 232, 253, 232, 78, 3, 0, 0, 0, 0, 0, 0, 0, 0, 0, 0, 0, 0, 4, 79, 213, 153, 2, 0, 0, 0, 0, 0, 22, 126, 202, 95, 7, 0, 0, 0, 0, 0, 0, 0, 0, 0, 0, 0, 0, 0, 0, 7, 36, 20, 0, 0, 0, 0, 0, 0, 0, 2, 4, 0, 0, 0, 0, 0, 0, 0, 0, 0, 0, 0, 0, 0, 0, 0, 0, 0, 0, 0, 0, 0, 0, 0, 0, 0, 0, 0, 0, 0, 0, 0, 0, 0, 0, 0, 0, 0, 0, 0, 0, 0, 0, 0, 0, 0, 0, 0, 0, 0, 0, 0, 0, 0, 0, 0, 0, 0, 0, 0, 0, 0, 0, 0, 0, 0, 0, 0, 0, 0, 0, 0, 0, 0, 0, 0, 0, 0, 0, 0, 0, 0, 0, 0, 0, 0, 0, 0, 0, 0, 0, 0, 0, 0, 0, 0, 0, 0, 0, 0, 0, 0, 0, 0, 0, 0]\n"
          ],
          "name": "stdout"
        }
      ]
    },
    {
      "cell_type": "code",
      "metadata": {
        "id": "mJHHxXZjQM5n"
      },
      "source": [
        "# index = randrange(0, len(images))\n",
        "\n",
        "# count = 0\n",
        "# for index in range(len(images)):\n",
        "#   if labels[index] == 3 and count < 10:\n",
        "#     for i in range(28):\n",
        "#       for j in range(28):\n",
        "#         print(images[index][i+j*28], end='')\n",
        "#       print('')\n",
        "#     print('')\n",
        "#     count += 1\n"
      ],
      "execution_count": null,
      "outputs": []
    },
    {
      "cell_type": "code",
      "metadata": {
        "id": "VA8pVhd-Q52o"
      },
      "source": [
        "\n",
        "\n",
        "model = Sequential()\n",
        "model.add(Dense(350, input_dim=784, activation='relu'))\n",
        "model.add(Dense(200, activation='relu'))\n",
        "model.add(Dense(100, activation='relu'))\n",
        "model.add(Dense(62, activation='softmax'))\n",
        "\n",
        "model.compile(loss='categorical_crossentropy', optimizer='adam', metrics=['accuracy'])\n"
      ],
      "execution_count": null,
      "outputs": []
    },
    {
      "cell_type": "code",
      "metadata": {
        "id": "NHKuENxKRqMG"
      },
      "source": [
        "targets = []\n",
        "for i in range(len(labels)):\n",
        "  tar = [0]*62\n",
        "  tar[labels[i]] = 1\n",
        "  targets += [tar]\n"
      ],
      "execution_count": null,
      "outputs": []
    },
    {
      "cell_type": "code",
      "metadata": {
        "id": "LcWb_xR0SVx_",
        "colab": {
          "base_uri": "https://localhost:8080/"
        },
        "outputId": "a2ba976b-bb20-4922-9f78-ff0390b6c551"
      },
      "source": [
        "history = model.fit(np.array(images), np.array(targets), validation_split=0.1, epochs=3, batch_size=256)\n"
      ],
      "execution_count": null,
      "outputs": [
        {
          "output_type": "stream",
          "text": [
            "Epoch 1/3\n",
            "2454/2454 [==============================] - 43s 17ms/step - loss: 0.9782 - accuracy: 0.7178 - val_loss: 0.5142 - val_accuracy: 0.8249\n",
            "Epoch 2/3\n",
            "2454/2454 [==============================] - 39s 16ms/step - loss: 0.4902 - accuracy: 0.8292 - val_loss: 0.4875 - val_accuracy: 0.8279\n",
            "Epoch 3/3\n",
            "2454/2454 [==============================] - 38s 15ms/step - loss: 0.4416 - accuracy: 0.8427 - val_loss: 0.4634 - val_accuracy: 0.8380\n"
          ],
          "name": "stdout"
        }
      ]
    },
    {
      "cell_type": "code",
      "metadata": {
        "colab": {
          "base_uri": "https://localhost:8080/",
          "height": 590
        },
        "id": "nMSpZdVmTGZ_",
        "outputId": "5ab1d4d7-6d94-4b61-eb50-43a4ccb62918"
      },
      "source": [
        "print(history.history.keys())\n",
        "# summarize history for accuracy\n",
        "plt.plot(history.history['accuracy'])\n",
        "plt.plot(history.history['val_accuracy'])\n",
        "plt.title('model accuracy')\n",
        "plt.ylabel('accuracy')\n",
        "plt.xlabel('epoch')\n",
        "plt.legend(['train', 'validation'], loc='upper left')\n",
        "plt.show()\n",
        "# summarize history for loss\n",
        "plt.plot(history.history['loss'])\n",
        "plt.plot(history.history['val_loss'])\n",
        "plt.title('model loss')\n",
        "plt.ylabel('loss')\n",
        "plt.xlabel('epoch')\n",
        "plt.legend(['train', 'validation'], loc='upper left')\n",
        "plt.show()"
      ],
      "execution_count": null,
      "outputs": [
        {
          "output_type": "stream",
          "text": [
            "dict_keys(['loss', 'accuracy', 'val_loss', 'val_accuracy'])\n"
          ],
          "name": "stdout"
        },
        {
          "output_type": "display_data",
          "data": {
            "image/png": "[encoded data removed]",
            "text/plain": [
              "<Figure size 432x288 with 1 Axes>"
            ]
          },
          "metadata": {
            "tags": [],
            "needs_background": "light"
          }
        },
        {
          "output_type": "display_data",
          "data": {
            "image/png": "[encoded data removed]",
            "text/plain": [
              "<Figure size 432x288 with 1 Axes>"
            ]
          },
          "metadata": {
            "tags": [],
            "needs_background": "light"
          }
        }
      ]
    },
    {
      "cell_type": "code",
      "metadata": {
        "colab": {
          "base_uri": "https://localhost:8080/"
        },
        "id": "Ml2j8lPv7Y9n",
        "outputId": "f46e48c5-6625-4c4d-e982-d8a4cb98703e"
      },
      "source": [
        "model.save('drive/MyDrive/my_model')\n"
      ],
      "execution_count": null,
      "outputs": [
        {
          "output_type": "stream",
          "text": [
            "INFO:tensorflow:Assets written to: drive/MyDrive/my_model/assets\n"
          ],
          "name": "stdout"
        }
      ]
    },
    {
      "cell_type": "code",
      "metadata": {
        "id": "g7EaZGp9TWuq"
      },
      "source": [
        "from keras.models import load_model\n",
        "\n",
        "testimages, testlabels = mndata.load_testing()\n",
        "\n",
        "model = load_model('drive/MyDrive/my_model')\n",
        "\n"
      ],
      "execution_count": null,
      "outputs": []
    },
    {
      "cell_type": "code",
      "metadata": {
        "id": "CSag9uwgUOw6"
      },
      "source": [
        "# for i in range(10):\n",
        "#   print(testlabels[i])\n",
        "\n",
        "predicted = model.predict(testimages)\n",
        "\n",
        "\n",
        "\n",
        "# for i in range(20):\n",
        "# \tp = np.argmax(predicted[i])\n",
        "# \tt = testlabels[i]\n",
        "# \tprint(p, t)\n",
        "\t# print(alphabets[p], alphabets[t])"
      ],
      "execution_count": null,
      "outputs": []
    },
    {
      "cell_type": "code",
      "metadata": {
        "colab": {
          "base_uri": "https://localhost:8080/"
        },
        "id": "dOgGumYHAVRU",
        "outputId": "ab5634eb-c750-4beb-baf7-929c42de0f19"
      },
      "source": [
        "print (type(predicted))\n",
        "\n",
        "confusion_matrix = [[0 for i in range(62)] for j in range(62)]\n",
        "correct = 0\n",
        "for i in range(len(testimages)):\n",
        "  p = np.argmax(predicted[i])\n",
        "  actual = testlabels[i]\n",
        "\n",
        "  if p == actual:\n",
        "    correct += 1\n",
        "\n",
        "  confusion_matrix[actual][p] += 1\n",
        "\n",
        "print(correct/len(testimages))\n",
        "# for x in confusion_matrix:\n",
        "#   print(*x)"
      ],
      "execution_count": null,
      "outputs": [
        {
          "output_type": "stream",
          "text": [
            "<class 'numpy.ndarray'>\n",
            "0.8367734669841734\n"
          ],
          "name": "stdout"
        }
      ]
    },
    {
      "cell_type": "code",
      "metadata": {
        "id": "z1PoGep0CF_p"
      },
      "source": [
        "import cv2\n",
        "import copy"
      ],
      "execution_count": null,
      "outputs": []
    },
    {
      "cell_type": "code",
      "metadata": {
        "id": "XOqXPNJJSiM_"
      },
      "source": [
        "for i in range(20):\n",
        "  temp = copy.deepcopy(testimages[i])\n",
        "  # for j in range(28):\n",
        "  #   for k in range(28):\n",
        "  #     print(temp[28*j+k], end=' ')\n",
        "  #   print('')\n",
        "  # print('')\n",
        "  for j in range(len(temp)):\n",
        "    temp[j] = 255-temp[j]\n",
        "  img = []\n",
        "  for j in range(28):\n",
        "    t = []\n",
        "    for k in range(28):\n",
        "       t += [temp[j+k*28]]\n",
        "    img += [t]\n",
        "  \n",
        "  # for x in img:\n",
        "  #   print(x)\n",
        "  img = np.array(img)\n",
        "  cv2.imwrite('drive/MyDrive/testpics/'+str(i)+'.png', img)"
      ],
      "execution_count": null,
      "outputs": []
    }
  ]
}